{
 "cells": [
  {
   "cell_type": "markdown",
   "source": [
    "<a target=\"_blank\" href=\"https://colab.research.google.com/github/asia281/StaszicAI/blob/main/20-05/Pandas/2_Pandas_Series_exercises.ipynb\">\n",
    "  <img src=\"https://colab.research.google.com/assets/colab-badge.svg\" alt=\"Open In Colab\"/>\n",
    "</a>"
   ],
   "metadata": {
    "id": "4YQ2VjQ7q2yC"
   }
  },
  {
   "cell_type": "markdown",
   "metadata": {
    "id": "tJH2zbnoqvnR"
   },
   "source": [
    "![rmotr](https://user-images.githubusercontent.com/7065401/52071918-bda15380-2562-11e9-828c-7f95297e4a82.png)\n",
    "<hr style=\"margin-bottom: 40px;\">\n",
    "\n",
    "# Pandas Series exercises\n"
   ]
  },
  {
   "cell_type": "code",
   "execution_count": null,
   "metadata": {
    "id": "G_5xY9NOqvnW",
    "outputId": "2734a7c1-f18b-4ea2-f369-c8d512562584"
   },
   "outputs": [
    {
     "name": "stdout",
     "output_type": "stream",
     "text": [
      "0.25.3\n"
     ]
    }
   ],
   "source": [
    "# Import the numpy package under the name np\n",
    "import numpy as np\n",
    "\n",
    "# Import the pandas package under the name pd\n",
    "import pandas as pd\n",
    "\n",
    "# Print the pandas version and the configuration\n",
    "print(pd.__version__)"
   ]
  },
  {
   "cell_type": "markdown",
   "metadata": {
    "id": "oUMroabXqvnZ"
   },
   "source": [
    "![purple-divider](https://user-images.githubusercontent.com/7065401/52071927-c1cd7100-2562-11e9-908a-dde91ba14e59.png)\n",
    "\n",
    "## Series creation"
   ]
  },
  {
   "cell_type": "markdown",
   "metadata": {
    "id": "1BBuXT5Vqvna"
   },
   "source": [
    "### Create an empty pandas Series"
   ]
  },
  {
   "cell_type": "code",
   "execution_count": null,
   "metadata": {
    "id": "nRfWcYVqqvna"
   },
   "outputs": [],
   "source": [
    "# your code goes here"
   ]
  },
  {
   "cell_type": "markdown",
   "metadata": {
    "id": "3QTYCjkGqvnb"
   },
   "source": [
    "![green-divider](https://user-images.githubusercontent.com/7065401/52071924-c003ad80-2562-11e9-8297-1c6595f8a7ff.png)\n",
    "\n",
    "### Given the X python list convert it to an Y pandas Series"
   ]
  },
  {
   "cell_type": "code",
   "execution_count": null,
   "metadata": {
    "id": "8xXAhIqLqvnb"
   },
   "outputs": [],
   "source": [
    "X = [\"A\", \"B\", \"C\"]\n",
    "print(X, type(X))\n",
    "\n",
    "# your code goes here"
   ]
  },
  {
   "cell_type": "markdown",
   "metadata": {
    "id": "_-8J4o79qvnf"
   },
   "source": [
    "![purple-divider](https://user-images.githubusercontent.com/7065401/52071927-c1cd7100-2562-11e9-908a-dde91ba14e59.png)\n",
    "\n",
    "## Series indexation"
   ]
  },
  {
   "cell_type": "markdown",
   "metadata": {
    "id": "QMk1Liynqvnh"
   },
   "source": [
    "![green-divider](https://user-images.githubusercontent.com/7065401/52071924-c003ad80-2562-11e9-8297-1c6595f8a7ff.png)\n",
    "\n",
    "### Given the X pandas Series, show its first element\n"
   ]
  },
  {
   "cell_type": "code",
   "execution_count": null,
   "metadata": {
    "id": "M_L7GEwvqvnh"
   },
   "outputs": [],
   "source": [
    "X = pd.Series([\"A\", \"B\", \"C\"], index=[\"first\", \"second\", \"third\"])\n",
    "# your code goes here"
   ]
  },
  {
   "cell_type": "markdown",
   "metadata": {
    "id": "lecsj6luqvni"
   },
   "source": [
    "![green-divider](https://user-images.githubusercontent.com/7065401/52071924-c003ad80-2562-11e9-8297-1c6595f8a7ff.png)\n",
    "\n",
    "### Given the X pandas Series, show its last element\n"
   ]
  },
  {
   "cell_type": "code",
   "execution_count": null,
   "metadata": {
    "id": "oBPsa62Lqvni"
   },
   "outputs": [],
   "source": [
    "X = pd.Series([\"A\", \"B\", \"C\"], index=[\"first\", \"second\", \"third\"])\n",
    "\n",
    "# your code goes here"
   ]
  },
  {
   "cell_type": "markdown",
   "metadata": {
    "id": "zONCqsn2qvnj"
   },
   "source": [
    "![green-divider](https://user-images.githubusercontent.com/7065401/52071924-c003ad80-2562-11e9-8297-1c6595f8a7ff.png)\n",
    "\n",
    "### Given the X pandas Series, show all middle elements\n"
   ]
  },
  {
   "cell_type": "code",
   "execution_count": null,
   "metadata": {
    "id": "jgLnCj0Sqvnk"
   },
   "outputs": [],
   "source": [
    "X = pd.Series(\n",
    "    [\"A\", \"B\", \"C\", \"D\", \"E\"], index=[\"first\", \"second\", \"third\", \"forth\", \"fifth\"]\n",
    ")\n",
    "# your code goes here"
   ]
  },
  {
   "cell_type": "markdown",
   "metadata": {
    "id": "u5_lJudxqvnk"
   },
   "source": [
    "![green-divider](https://user-images.githubusercontent.com/7065401/52071924-c003ad80-2562-11e9-8297-1c6595f8a7ff.png)\n",
    "\n",
    "### Given the X pandas Series, show the elements in reverse position\n"
   ]
  },
  {
   "cell_type": "code",
   "execution_count": null,
   "metadata": {
    "id": "RKZ7QNs7qvnl"
   },
   "outputs": [],
   "source": [
    "X = pd.Series(\n",
    "    [\"A\", \"B\", \"C\", \"D\", \"E\"], index=[\"first\", \"second\", \"third\", \"forth\", \"fifth\"]\n",
    ")\n",
    "# your code goes here"
   ]
  },
  {
   "cell_type": "markdown",
   "metadata": {
    "id": "CLBgGD4Sqvnm"
   },
   "source": [
    "![green-divider](https://user-images.githubusercontent.com/7065401/52071924-c003ad80-2562-11e9-8297-1c6595f8a7ff.png)\n",
    "\n",
    "### Given the X pandas Series, show the first and last elements\n"
   ]
  },
  {
   "cell_type": "code",
   "execution_count": null,
   "metadata": {
    "id": "fNtCT81qqvnn"
   },
   "outputs": [],
   "source": [
    "X = pd.Series(\n",
    "    [\"A\", \"B\", \"C\", \"D\", \"E\"], index=[\"first\", \"second\", \"third\", \"forth\", \"fifth\"]\n",
    ")\n",
    "# your code goes here"
   ]
  },
  {
   "cell_type": "markdown",
   "metadata": {
    "id": "lXOsWIvTqvnp"
   },
   "source": [
    "![purple-divider](https://user-images.githubusercontent.com/7065401/52071927-c1cd7100-2562-11e9-908a-dde91ba14e59.png)\n",
    "\n",
    "## Series manipulation"
   ]
  },
  {
   "cell_type": "markdown",
   "metadata": {
    "id": "El2ZmP5Vqvnq"
   },
   "source": [
    "### Convert the given integer pandas Series to float\n"
   ]
  },
  {
   "cell_type": "code",
   "execution_count": null,
   "metadata": {
    "id": "CGfJheJfqvnq"
   },
   "outputs": [],
   "source": [
    "X = pd.Series([1, 2, 3, 4, 5], index=[\"first\", \"second\", \"third\", \"forth\", \"fifth\"])\n",
    "# your code goes here"
   ]
  },
  {
   "cell_type": "markdown",
   "metadata": {
    "id": "6aq2PkToqvnr"
   },
   "source": [
    "![green-divider](https://user-images.githubusercontent.com/7065401/52071924-c003ad80-2562-11e9-8297-1c6595f8a7ff.png)\n",
    "\n",
    "### Reverse the given pandas Series (first element becomes last)"
   ]
  },
  {
   "cell_type": "code",
   "execution_count": null,
   "metadata": {
    "id": "1aydr33Bqvns"
   },
   "outputs": [],
   "source": [
    "X = pd.Series([1, 2, 3, 4, 5], index=[\"first\", \"second\", \"third\", \"forth\", \"fifth\"])\n",
    "# your code goes here"
   ]
  },
  {
   "cell_type": "markdown",
   "metadata": {
    "id": "w6o822bXqvnt"
   },
   "source": [
    "![green-divider](https://user-images.githubusercontent.com/7065401/52071924-c003ad80-2562-11e9-8297-1c6595f8a7ff.png)\n",
    "\n",
    "### Order (sort) the given pandas Series\n"
   ]
  },
  {
   "cell_type": "code",
   "execution_count": null,
   "metadata": {
    "id": "bvGLpuaCqvnu"
   },
   "outputs": [],
   "source": [
    "X = pd.Series([4, 2, 5, 1, 3], index=[\"forth\", \"second\", \"fifth\", \"first\", \"third\"])\n",
    "# your code goes here"
   ]
  },
  {
   "cell_type": "markdown",
   "metadata": {
    "id": "zgc3wY6bqvnv"
   },
   "source": [
    "![green-divider](https://user-images.githubusercontent.com/7065401/52071924-c003ad80-2562-11e9-8297-1c6595f8a7ff.png)\n",
    "\n",
    "### Given the X pandas Series, set the fifth element equal to 10\n"
   ]
  },
  {
   "cell_type": "code",
   "execution_count": null,
   "metadata": {
    "id": "556vaJSjqvnv"
   },
   "outputs": [],
   "source": [
    "X = pd.Series([1, 2, 3, 4, 5], index=[\"A\", \"B\", \"C\", \"D\", \"E\"])\n",
    "# your code goes here"
   ]
  },
  {
   "cell_type": "markdown",
   "metadata": {
    "id": "9Dh7x-rxqvnw"
   },
   "source": [
    "![green-divider](https://user-images.githubusercontent.com/7065401/52071924-c003ad80-2562-11e9-8297-1c6595f8a7ff.png)\n",
    "\n",
    "### Given the X pandas Series, change all the middle elements to 0\n"
   ]
  },
  {
   "cell_type": "code",
   "execution_count": null,
   "metadata": {
    "id": "nrUnccvjqvnw"
   },
   "outputs": [],
   "source": [
    "X = pd.Series([1, 2, 3, 4, 5], index=[\"A\", \"B\", \"C\", \"D\", \"E\"])\n",
    "# your code goes here"
   ]
  },
  {
   "cell_type": "markdown",
   "metadata": {
    "id": "JTXMxug3qvnx"
   },
   "source": [
    "![green-divider](https://user-images.githubusercontent.com/7065401/52071924-c003ad80-2562-11e9-8297-1c6595f8a7ff.png)\n",
    "\n",
    "### Given the X pandas Series, add 5 to every element\n"
   ]
  },
  {
   "cell_type": "code",
   "execution_count": null,
   "metadata": {
    "id": "y8YPrEn6qvny"
   },
   "outputs": [],
   "source": [
    "X = pd.Series([1, 2, 3, 4, 5])\n",
    "# your code goes here"
   ]
  },
  {
   "cell_type": "markdown",
   "metadata": {
    "id": "3Lsvf3MRqvnz"
   },
   "source": [
    "![purple-divider](https://user-images.githubusercontent.com/7065401/52071927-c1cd7100-2562-11e9-908a-dde91ba14e59.png)\n",
    "\n",
    "## Series boolean arrays (also called masks)"
   ]
  },
  {
   "cell_type": "markdown",
   "metadata": {
    "id": "cFEGM9SCqvnz"
   },
   "source": [
    "### Given the X pandas Series, make a mask showing negative elements\n"
   ]
  },
  {
   "cell_type": "code",
   "execution_count": null,
   "metadata": {
    "id": "YnZqs-kkqvnz"
   },
   "outputs": [],
   "source": [
    "X = pd.Series([-1, 2, 0, -4, 5, 6, 0, 0, -9, 10])\n",
    "# your code goes here"
   ]
  },
  {
   "cell_type": "markdown",
   "metadata": {
    "id": "6Gfvc-vfqvn0"
   },
   "source": [
    "![green-divider](https://user-images.githubusercontent.com/7065401/52071924-c003ad80-2562-11e9-8297-1c6595f8a7ff.png)\n",
    "\n",
    "### Given the X pandas Series, get the negative elements\n"
   ]
  },
  {
   "cell_type": "code",
   "execution_count": null,
   "metadata": {
    "id": "b2zzi4zlqvn0"
   },
   "outputs": [],
   "source": [
    "X = pd.Series([-1, 2, 0, -4, 5, 6, 0, 0, -9, 10])\n",
    "# your code goes here"
   ]
  },
  {
   "cell_type": "markdown",
   "metadata": {
    "id": "De6eWVVaqvn1"
   },
   "source": [
    "![green-divider](https://user-images.githubusercontent.com/7065401/52071924-c003ad80-2562-11e9-8297-1c6595f8a7ff.png)\n",
    "\n",
    "### Given the X pandas Series, get numbers higher than 5\n"
   ]
  },
  {
   "cell_type": "code",
   "execution_count": null,
   "metadata": {
    "id": "kxmlE09pqvn1"
   },
   "outputs": [],
   "source": [
    "X = pd.Series([-1, 2, 0, -4, 5, 6, 0, 0, -9, 10])\n",
    "# your code goes here"
   ]
  },
  {
   "cell_type": "markdown",
   "metadata": {
    "id": "6sCe2CJ-qvn2"
   },
   "source": [
    "![green-divider](https://user-images.githubusercontent.com/7065401/52071924-c003ad80-2562-11e9-8297-1c6595f8a7ff.png)\n",
    "\n",
    "### Given the X pandas Series, get numbers higher than the elements mean"
   ]
  },
  {
   "cell_type": "code",
   "execution_count": null,
   "metadata": {
    "id": "66TOmuPmqvn2"
   },
   "outputs": [],
   "source": [
    "X = pd.Series([-1, 2, 0, -4, 5, 6, 0, 0, -9, 10])\n",
    "# your code goes here"
   ]
  },
  {
   "cell_type": "markdown",
   "metadata": {
    "id": "NiggnhvNqvn3"
   },
   "source": [
    "![green-divider](https://user-images.githubusercontent.com/7065401/52071924-c003ad80-2562-11e9-8297-1c6595f8a7ff.png)\n",
    "\n",
    "### Given the X pandas Series, get numbers equal to 2 or 10\n"
   ]
  },
  {
   "cell_type": "code",
   "execution_count": null,
   "metadata": {
    "id": "X_HPakXRqvn3"
   },
   "outputs": [],
   "source": [
    "X = pd.Series([-1, 2, 0, -4, 5, 6, 0, 0, -9, 10])\n",
    "# your code goes here"
   ]
  },
  {
   "cell_type": "markdown",
   "metadata": {
    "id": "-ej3ixGCqvn4"
   },
   "source": [
    "![purple-divider](https://user-images.githubusercontent.com/7065401/52071927-c1cd7100-2562-11e9-908a-dde91ba14e59.png)\n",
    "\n",
    "## Logic functions"
   ]
  },
  {
   "cell_type": "markdown",
   "metadata": {
    "id": "0_FRzY5oqvn4"
   },
   "source": [
    "### Given the X pandas Series, return True if none of its elements is zero"
   ]
  },
  {
   "cell_type": "code",
   "execution_count": null,
   "metadata": {
    "id": "J90LmC8Gqvn4"
   },
   "outputs": [],
   "source": [
    "X = pd.Series([-1, 2, 0, -4, 5, 6, 0, 0, -9, 10])\n",
    "# your code goes here"
   ]
  },
  {
   "cell_type": "markdown",
   "metadata": {
    "id": "jg52cFFzqvn5"
   },
   "source": [
    "![green-divider](https://user-images.githubusercontent.com/7065401/52071924-c003ad80-2562-11e9-8297-1c6595f8a7ff.png)\n",
    "\n",
    "### Given the X pandas Series, return True if any of its elements is zero\n"
   ]
  },
  {
   "cell_type": "code",
   "execution_count": null,
   "metadata": {
    "id": "irWtBeoiqvn6"
   },
   "outputs": [],
   "source": [
    "X = pd.Series([-1, 2, 0, -4, 5, 6, 0, 0, -9, 10])\n",
    "# your code goes here"
   ]
  },
  {
   "cell_type": "markdown",
   "metadata": {
    "id": "rPk9MVdcqvn6"
   },
   "source": [
    "![purple-divider](https://user-images.githubusercontent.com/7065401/52071927-c1cd7100-2562-11e9-908a-dde91ba14e59.png)\n",
    "\n",
    "## Summary statistics"
   ]
  },
  {
   "cell_type": "markdown",
   "metadata": {
    "id": "G-gWAT5hqvn6"
   },
   "source": [
    "### Given the X pandas Series, show the sum of its elements\n"
   ]
  },
  {
   "cell_type": "code",
   "execution_count": null,
   "metadata": {
    "id": "cKMDfoeQqvn7"
   },
   "outputs": [],
   "source": [
    "X = pd.Series([-1, 2, 0, -4, 5, 6, 0, 0, -9, 10])\n",
    "# your code goes here"
   ]
  },
  {
   "cell_type": "markdown",
   "metadata": {
    "id": "BiHnap_fqvn8"
   },
   "source": [
    "![green-divider](https://user-images.githubusercontent.com/7065401/52071924-c003ad80-2562-11e9-8297-1c6595f8a7ff.png)\n",
    "\n",
    "### Given the X pandas Series, show the max value of its elements"
   ]
  },
  {
   "cell_type": "code",
   "execution_count": null,
   "metadata": {
    "id": "DA6B0dn_qvn8"
   },
   "outputs": [],
   "source": [
    "X = pd.Series([-1, 2, 0, -4, 5, 6, 0, 0, -9, 10])\n",
    "# your code goes here"
   ]
  },
  {
   "cell_type": "markdown",
   "metadata": {
    "id": "jSRe8xyzqvn9"
   },
   "source": [
    "![purple-divider](https://user-images.githubusercontent.com/7065401/52071927-c1cd7100-2562-11e9-908a-dde91ba14e59.png)"
   ]
  }
 ],
 "metadata": {
  "kernelspec": {
   "display_name": "Python 3",
   "language": "python",
   "name": "python3"
  },
  "language_info": {
   "codemirror_mode": {
    "name": "ipython",
    "version": 3
   },
   "file_extension": ".py",
   "mimetype": "text/x-python",
   "name": "python",
   "nbconvert_exporter": "python",
   "pygments_lexer": "ipython3",
   "version": "3.7.4"
  },
  "colab": {
   "provenance": []
  }
 },
 "nbformat": 4,
 "nbformat_minor": 0
}