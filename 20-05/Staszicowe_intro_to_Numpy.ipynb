{
  "nbformat": 4,
  "nbformat_minor": 0,
  "metadata": {
    "colab": {
      "provenance": [],
      "collapsed_sections": [
        "ZHAX35DzIV6f",
        "JbHGtGv5EiRE",
        "a9gLMTtZSgCY"
      ]
    },
    "kernelspec": {
      "name": "python3",
      "display_name": "Python 3"
    },
    "language_info": {
      "name": "python"
    }
  },
  "cells": [
    {
      "cell_type": "markdown",
      "source": [
        "Zalecamy nie czytać notatników na githubie, ze względu na źle wyświetlające się wizualizacje i brak możliwości uruchamiania kodu. Polecamy otworzyć notatnik w google colab, następującym linkiem:\n",
        "\n",
        "<a target=\"_blank\" href=\"https://colab.research.google.com/github/asia281/StaszicAI/blob/main/20-05/Staszicowe_intro_to_Numpy.ipynb\">\n",
        "  <img src=\"https://colab.research.google.com/assets/colab-badge.svg\" alt=\"Open In Colab\"/>\n",
        "</a>"
      ],
      "metadata": {
        "id": "fvMIE4o4mNiF"
      }
    },
    {
      "cell_type": "code",
      "source": [
        "#@title Kod do wizualizacji, nie trzeba go czytać (polecamy zwinąć komórkę)\n",
        "\n",
        "import numpy as np\n",
        "import math\n",
        "import matplotlib.pyplot as plt\n",
        "from matplotlib.animation import FuncAnimation\n",
        "from IPython.display import HTML\n",
        "\n",
        "# -----------------------\n",
        "# Visualization Code\n",
        "# -----------------------\n",
        "\n",
        "def plot_vector_sum(a, b):\n",
        "    # Create a figure with arrows for vectors\n",
        "    plt.figure(figsize=(6, 6))\n",
        "    plt.grid(True)\n",
        "    sstr = lambda x: f'({x[0]}, {x[1]})'\n",
        "\n",
        "    # Plot vectors as arrows\n",
        "    # Vector v\n",
        "    plt.quiver(0, 0, *a, angles='xy', scale_units='xy', scale=1, color='r', label=f'a = {sstr(a)}')\n",
        "    plt.plot(a[0], a[1], 'bo')  # Ending position of vector v as a blue dot\n",
        "    # Vector w, shifted to the end of vector v\n",
        "    plt.quiver(*a, *b, angles='xy', scale_units='xy', scale=1, color='r', label=f'b = {sstr(b)}')\n",
        "    # Ending position of the sum of vectors as a blue dot\n",
        "    plt.plot(*(a + b), 'bo')\n",
        "    # Resultant sum of vectors as an arrow\n",
        "    plt.quiver(0, 0, *(a + b), angles='xy', scale_units='xy', scale=1, color='g', label=f'a + b = {sstr(a + b)}')\n",
        "\n",
        "    # Set axis limits\n",
        "    plt.xlim(0, 5)\n",
        "    plt.ylim(0, 5)\n",
        "\n",
        "    # Add legend\n",
        "    plt.legend()\n",
        "\n",
        "    # Show plot\n",
        "    plt.show()"
      ],
      "metadata": {
        "cellView": "form",
        "id": "SMUoyud_rwSB"
      },
      "execution_count": null,
      "outputs": []
    },
    {
      "cell_type": "markdown",
      "metadata": {
        "id": "-ylA7nFWkahP"
      },
      "source": [
        "# NumPy\n"
      ]
    },
    {
      "cell_type": "markdown",
      "source": [
        "Zaczynamy od zaimportowania bibliotek."
      ],
      "metadata": {
        "id": "UZ2MfURSrck_"
      }
    },
    {
      "cell_type": "code",
      "metadata": {
        "id": "IbloavGiHlwp"
      },
      "source": [
        "import numpy as np\n",
        "import matplotlib.pyplot as plt"
      ],
      "execution_count": null,
      "outputs": []
    },
    {
      "cell_type": "markdown",
      "metadata": {
        "id": "W80hh5i_nJWl"
      },
      "source": [
        "## Array creation\n",
        "\n",
        "There are multiple ways to create an array, try examples below."
      ]
    },
    {
      "cell_type": "markdown",
      "metadata": {
        "id": "WEq2aTpyoQ1m"
      },
      "source": [
        "### From nested lists"
      ]
    },
    {
      "cell_type": "code",
      "metadata": {
        "id": "fBA-gIIcndlB"
      },
      "source": [
        "array_1d = np.array([1, 2, 3, 4, 5])\n",
        "array_1d"
      ],
      "execution_count": null,
      "outputs": []
    },
    {
      "cell_type": "code",
      "metadata": {
        "id": "rOjlDLLanl7a"
      },
      "source": [
        "array_2d = np.array(\n",
        "  [\n",
        "    [1,  2,  3,  4,  5 ],\n",
        "    [6,  7,  8,  9,  10],\n",
        "    [11, 12, 13, 14, 15]\n",
        "  ]\n",
        ")\n",
        "array_2d"
      ],
      "execution_count": null,
      "outputs": []
    },
    {
      "cell_type": "code",
      "metadata": {
        "id": "TzXqVFDdqXbo"
      },
      "source": [
        "array_3d = np.array(\n",
        "  [\n",
        "    [\n",
        "      [1,  2,  3,  4,  5 ],\n",
        "      [6,  7,  8,  9,  10],\n",
        "      [11, 12, 13, 14, 15],\n",
        "    ],\n",
        "    [\n",
        "      [16, 17, 18, 19, 20],\n",
        "      [21, 22, 23, 24, 25],\n",
        "      [26, 27, 28, 29, 30],\n",
        "    ]\n",
        "  ]\n",
        ")\n",
        "array_3d"
      ],
      "execution_count": null,
      "outputs": []
    },
    {
      "cell_type": "code",
      "source": [
        "# TODO: stwórz macierz 2d o wymiarach 2x2, która ma kolejne elementy: 4, 3, 2, 1"
      ],
      "metadata": {
        "id": "3n-r_9tdu1Kt"
      },
      "execution_count": null,
      "outputs": []
    },
    {
      "cell_type": "markdown",
      "metadata": {
        "id": "webMxD6uoYze"
      },
      "source": [
        "### Using zeros / ones / full\n",
        "\n"
      ]
    },
    {
      "cell_type": "code",
      "metadata": {
        "id": "jGqitqyTocBD"
      },
      "source": [
        "shape = (2, 3)\n",
        "\n",
        "np.zeros(shape)"
      ],
      "execution_count": null,
      "outputs": []
    },
    {
      "cell_type": "code",
      "metadata": {
        "id": "cdSok2u-pSPd"
      },
      "source": [
        "np.ones(shape)"
      ],
      "execution_count": null,
      "outputs": []
    },
    {
      "cell_type": "code",
      "metadata": {
        "id": "RCN5_xuhpUQd"
      },
      "source": [
        "fill_value = 42\n",
        "np.full(shape, fill_value)"
      ],
      "execution_count": null,
      "outputs": []
    },
    {
      "cell_type": "code",
      "source": [
        "# TODO: stwórz macierz  o wymiarach 1x3, która jest wypełniona liczbami 3"
      ],
      "metadata": {
        "id": "1gb4sZjnu_5u"
      },
      "execution_count": null,
      "outputs": []
    },
    {
      "cell_type": "markdown",
      "metadata": {
        "id": "9cSS0vIQpiz5"
      },
      "source": [
        "### Using zeros_like / ones_like / full_like"
      ]
    },
    {
      "cell_type": "code",
      "metadata": {
        "id": "joGdJhWKpf1u"
      },
      "source": [
        "np.zeros_like(array_2d)"
      ],
      "execution_count": null,
      "outputs": []
    },
    {
      "cell_type": "code",
      "metadata": {
        "id": "u_1eS6Tlpu_V"
      },
      "source": [
        "np.ones_like(array_2d)"
      ],
      "execution_count": null,
      "outputs": []
    },
    {
      "cell_type": "code",
      "metadata": {
        "id": "OIfdmB0ipwum"
      },
      "source": [
        "fill_value = 42\n",
        "np.full_like(array_2d, fill_value)"
      ],
      "execution_count": null,
      "outputs": []
    },
    {
      "cell_type": "markdown",
      "metadata": {
        "id": "QHpb58Mlstlf"
      },
      "source": [
        "### Using arange / linspace (1D arrays only)\n",
        "\n",
        "which are used to fill an array with values from the interval $[low, high]$ with specific step or number of points."
      ]
    },
    {
      "cell_type": "code",
      "metadata": {
        "id": "RXj5fzEtsw8j"
      },
      "source": [
        "start = 0\n",
        "stop  = 1\n",
        "step  = 0.1\n",
        "\n",
        "np.arange(start, stop, step)"
      ],
      "execution_count": null,
      "outputs": []
    },
    {
      "cell_type": "code",
      "metadata": {
        "id": "ZIeKi-TXtqYv"
      },
      "source": [
        "np.arange(start, stop + 1e-4, step)"
      ],
      "execution_count": null,
      "outputs": []
    },
    {
      "cell_type": "code",
      "metadata": {
        "id": "boiLTInxt0lW"
      },
      "source": [
        "n_steps = int((stop-start)/step) + 1\n",
        "np.linspace(start, stop, n_steps)"
      ],
      "execution_count": null,
      "outputs": []
    },
    {
      "cell_type": "code",
      "source": [
        "# TODO: stwórz macierz 1d, która ma kolejne wartości: 1, 2, ..., 10"
      ],
      "metadata": {
        "id": "qNBkhNsyvOkG"
      },
      "execution_count": null,
      "outputs": []
    },
    {
      "cell_type": "markdown",
      "metadata": {
        "id": "Xb_VL-mF3eOK"
      },
      "source": [
        "### Using identity / diag (2D arrays only)\n",
        " to create identity or diagonal (with optional offset) matrices."
      ]
    },
    {
      "cell_type": "code",
      "metadata": {
        "id": "It68UUiU3dwQ"
      },
      "source": [
        "n = 4\n",
        "np.identity(n)"
      ],
      "execution_count": null,
      "outputs": []
    },
    {
      "cell_type": "code",
      "metadata": {
        "id": "1FLjhK1C4Ec6"
      },
      "source": [
        "np.diag([1, 2, 3, 4])"
      ],
      "execution_count": null,
      "outputs": []
    },
    {
      "cell_type": "code",
      "metadata": {
        "id": "CNk5Kc5p4V5T"
      },
      "source": [
        "offset = 1\n",
        "np.diag([1, 2, 3], offset)"
      ],
      "execution_count": null,
      "outputs": []
    },
    {
      "cell_type": "markdown",
      "metadata": {
        "id": "e6mlIrax7hgC"
      },
      "source": [
        "### Using tile & repeat\n",
        "to create an array filled with \"repeating pattern\"."
      ]
    },
    {
      "cell_type": "code",
      "metadata": {
        "id": "DYXekk6v8H2g"
      },
      "source": [
        "array = np.array([0,1,2])"
      ],
      "execution_count": null,
      "outputs": []
    },
    {
      "cell_type": "code",
      "metadata": {
        "id": "yFGyhV4y7yc8"
      },
      "source": [
        "np.tile(array, 2)"
      ],
      "execution_count": null,
      "outputs": []
    },
    {
      "cell_type": "code",
      "metadata": {
        "id": "YtiHvEmC76KX"
      },
      "source": [
        "np.tile(array, (2, 1))"
      ],
      "execution_count": null,
      "outputs": []
    },
    {
      "cell_type": "code",
      "metadata": {
        "id": "ivQi_Yr58FSV"
      },
      "source": [
        "np.repeat(array, 2)"
      ],
      "execution_count": null,
      "outputs": []
    },
    {
      "cell_type": "code",
      "metadata": {
        "id": "kYKNAtvs8VE2"
      },
      "source": [
        "np.repeat(array, 2, axis=0)"
      ],
      "execution_count": null,
      "outputs": []
    },
    {
      "cell_type": "code",
      "metadata": {
        "id": "jb1KKdp18chc"
      },
      "source": [
        "np.repeat(array.reshape(1, -1), 2, axis=0)"
      ],
      "execution_count": null,
      "outputs": []
    },
    {
      "cell_type": "code",
      "source": [
        "# TODO: stwórz macierz array([1, 1, 1, 2, 2, 2, 3, 3, 3])"
      ],
      "metadata": {
        "id": "tDj1tXTXvt1h"
      },
      "execution_count": null,
      "outputs": []
    },
    {
      "cell_type": "code",
      "source": [
        "# TODO: stwórz macierz array([(1, 2, 3)^10]) (macierz z (1, 2, 3) powtórzonymi 10 razy)"
      ],
      "metadata": {
        "id": "hjLyoE-JwAke"
      },
      "execution_count": null,
      "outputs": []
    },
    {
      "cell_type": "markdown",
      "metadata": {
        "id": "Bvo7c15Z4uyl"
      },
      "source": [
        "## NumPy dtypes\n",
        "\n",
        "Full list of NumPy dtypes is available here: https://numpy.org/doc/stable/user/basics.types.html\n",
        "\n",
        "Among which there are 5 basic numerical types representing booleans (bool), integers (int), unsigned integers (uint) floating point (float) and complex.\n",
        "\n",
        "Data-types can be used as arguments to the dtype keyword that many numpy functions or methods accept, in particular array creation routines.\n",
        "\n",
        "See examples below."
      ]
    },
    {
      "cell_type": "code",
      "metadata": {
        "id": "71bkCN7u4uF1"
      },
      "source": [
        "np.array([1, 2, 3, 4, 5], dtype=int)"
      ],
      "execution_count": null,
      "outputs": []
    },
    {
      "cell_type": "code",
      "metadata": {
        "id": "pG-Kev4U66cU"
      },
      "source": [
        "np.array([1, 2, 3, 4, 5], dtype=float)"
      ],
      "execution_count": null,
      "outputs": []
    },
    {
      "cell_type": "markdown",
      "metadata": {
        "id": "eLPy8VOR7MSH"
      },
      "source": [
        "Types can be cast as follows"
      ]
    },
    {
      "cell_type": "code",
      "metadata": {
        "id": "aXDd4Is-7pd1"
      },
      "source": [
        "float_array   = np.array([1, 2, 3, 4, 5], dtype=float)\n",
        "\n",
        "float_array, float_array.dtype"
      ],
      "execution_count": null,
      "outputs": []
    },
    {
      "cell_type": "markdown",
      "metadata": {
        "id": "hVLsd4dRynKs"
      },
      "source": [
        "## Mathematical operations\n",
        "As stated before\n",
        "\n",
        "> NumPy arrays facilitate advanced mathematical and other types of operations on large numbers of data. Typically, such operations are executed more efficiently and with less code than is possible using Python’s built-in sequences.\n",
        "\n",
        "Let us observe some examples.\n",
        "\n"
      ]
    },
    {
      "cell_type": "code",
      "metadata": {
        "id": "YEZXVI031blS"
      },
      "source": [
        "x = np.arange(0, 3, 1)\n",
        "y = np.arange(3, 6, 1)\n",
        "\n",
        "x, y"
      ],
      "execution_count": null,
      "outputs": []
    },
    {
      "cell_type": "markdown",
      "metadata": {
        "id": "-ueTCTNM10NF"
      },
      "source": [
        "#### Elementwise\n",
        "\n",
        "Basic mathematical operations will be applied to the arrays elementwise.\n",
        "\n",
        "### **Mnożenie wektora przez liczbę**\n",
        "\n",
        "Mnożenie wektora przez liczbę polega na pomnożeniu każdej składowej wektora. Na przykład, jeśli chcemy pomnożyć wektor `a` przez `3`, wynik będzie wyglądał następująco:\n",
        "\n",
        "$ d = 3 \\cdot a = [3 \\cdot a_1, 3 \\cdot a_2] $\n",
        "\n",
        "Przykład w `numpy`:\n"
      ]
    },
    {
      "cell_type": "code",
      "metadata": {
        "id": "MEg62Rxz2H9j"
      },
      "source": [
        "2 * x"
      ],
      "execution_count": null,
      "outputs": []
    },
    {
      "cell_type": "code",
      "metadata": {
        "id": "_EWYjqsF2J5L"
      },
      "source": [
        "x * 2"
      ],
      "execution_count": null,
      "outputs": []
    },
    {
      "cell_type": "code",
      "metadata": {
        "id": "-ngJGA2P2OGr"
      },
      "source": [
        "np.sin(x)"
      ],
      "execution_count": null,
      "outputs": []
    },
    {
      "cell_type": "code",
      "metadata": {
        "id": "mhqcwPqr2SSL"
      },
      "source": [
        "x**2"
      ],
      "execution_count": null,
      "outputs": []
    },
    {
      "cell_type": "markdown",
      "metadata": {
        "id": "k4eTsdsA2to6"
      },
      "source": [
        "The same applies to the binary (taking two arguments) operators and arrays of the same shape."
      ]
    },
    {
      "cell_type": "code",
      "metadata": {
        "id": "k8j2TfWS2zy5"
      },
      "source": [
        "x + y"
      ],
      "execution_count": null,
      "outputs": []
    },
    {
      "cell_type": "code",
      "metadata": {
        "id": "ApB4OBh720_h"
      },
      "source": [
        "x * y"
      ],
      "execution_count": null,
      "outputs": []
    },
    {
      "cell_type": "code",
      "metadata": {
        "id": "jnuLk9XV3AmH"
      },
      "source": [
        "x / y"
      ],
      "execution_count": null,
      "outputs": []
    },
    {
      "cell_type": "code",
      "source": [
        "x // y"
      ],
      "metadata": {
        "id": "dPM_BcL0yIEo"
      },
      "execution_count": null,
      "outputs": []
    },
    {
      "cell_type": "code",
      "metadata": {
        "id": "2oE-l0QP229x"
      },
      "source": [
        "y ** x"
      ],
      "execution_count": null,
      "outputs": []
    },
    {
      "cell_type": "code",
      "source": [
        "a = np.array([1, 2])\n",
        "b = np.array([3, 1])\n",
        "\n",
        "c = a + b\n",
        "print(\"Wynik dodawania a + b:\", c)"
      ],
      "metadata": {
        "id": "MacT9GrGtNLK"
      },
      "execution_count": null,
      "outputs": []
    },
    {
      "cell_type": "code",
      "source": [
        "plot_vector_sum(a, b)  # Wizualizujemy sumę wektorów a i b"
      ],
      "metadata": {
        "id": "EGiZxukotK3d"
      },
      "execution_count": null,
      "outputs": []
    },
    {
      "cell_type": "markdown",
      "metadata": {
        "id": "ZHAX35DzIV6f"
      },
      "source": [
        "## (Additional) Saving / loading data"
      ]
    },
    {
      "cell_type": "markdown",
      "metadata": {
        "id": "a8JqT2YNIYLT"
      },
      "source": [
        "### Using savetxt / loadtxt\n",
        "\n",
        "to process a single 1D/2D array in human readable format. File created with `savetxt` can be easily accessed with a text editor"
      ]
    },
    {
      "cell_type": "code",
      "metadata": {
        "id": "DzZhxR8GIjZ8"
      },
      "source": [
        "data = np.array(\n",
        "  [\n",
        "    [1, 2],\n",
        "    [3, 4],\n",
        "  ]\n",
        ")\n",
        "\n",
        "np.savetxt('data.txt', data)\n",
        "!cat data.txt"
      ],
      "execution_count": null,
      "outputs": []
    },
    {
      "cell_type": "markdown",
      "metadata": {
        "id": "4NbX_OQvlGWJ"
      },
      "source": [
        "as well as seamlessly loaded back with `loadtxt`.\n"
      ]
    },
    {
      "cell_type": "code",
      "metadata": {
        "id": "Qhb4Lak7Ke6T"
      },
      "source": [
        "np.loadtxt('data.txt')"
      ],
      "execution_count": null,
      "outputs": []
    },
    {
      "cell_type": "markdown",
      "metadata": {
        "id": "HQphHlhfJeJR"
      },
      "source": [
        "File format can be specified, see https://numpy.org/doc/stable/reference/generated/numpy.savetxt.html for reference"
      ]
    },
    {
      "cell_type": "code",
      "metadata": {
        "id": "USsR9kCDIsVk"
      },
      "source": [
        "np.savetxt('data.txt', data, fmt='%.2f')\n",
        "!cat data.txt"
      ],
      "execution_count": null,
      "outputs": []
    },
    {
      "cell_type": "code",
      "metadata": {
        "id": "d0Gzo5ZWLV8N"
      },
      "source": [
        "np.savetxt('data.txt', data, fmt='%d')\n",
        "!cat data.txt"
      ],
      "execution_count": null,
      "outputs": []
    },
    {
      "cell_type": "markdown",
      "metadata": {
        "id": "YjGhKKPELdhN"
      },
      "source": [
        "Nevertheless information regarding dtype is not preserved."
      ]
    },
    {
      "cell_type": "code",
      "metadata": {
        "id": "mTXW5ua_LHoU"
      },
      "source": [
        "np.loadtxt('data.txt')"
      ],
      "execution_count": null,
      "outputs": []
    },
    {
      "cell_type": "code",
      "metadata": {
        "id": "vz3si1gRLKs9"
      },
      "source": [
        "np.loadtxt('data.txt', dtype=int)"
      ],
      "execution_count": null,
      "outputs": []
    },
    {
      "cell_type": "markdown",
      "metadata": {
        "id": "j_VJpd3LlxHY"
      },
      "source": [
        "`savetxt` method can be used to save an array in csv format, we only need to specify the proper delimiter"
      ]
    },
    {
      "cell_type": "code",
      "metadata": {
        "id": "S-PlqdM0lZDY"
      },
      "source": [
        "np.savetxt('data.csv', data, delimiter=',', fmt='%.2f')\n",
        "!cat data.csv"
      ],
      "execution_count": null,
      "outputs": []
    },
    {
      "cell_type": "markdown",
      "metadata": {
        "id": "RDOnFgRNmPlM"
      },
      "source": [
        "as well as loaded back"
      ]
    },
    {
      "cell_type": "code",
      "metadata": {
        "id": "ENHRU23jmRZc"
      },
      "source": [
        "np.loadtxt('data.csv', delimiter=',')"
      ],
      "execution_count": null,
      "outputs": []
    },
    {
      "cell_type": "markdown",
      "metadata": {
        "id": "ugKAZugbLycP"
      },
      "source": [
        "### Using save / load\n",
        "to process an arbitrary array in binary format. Unfortunately the resulting file is not human readable. On the other hand these methods can handle array of arbitrary shape and preserve the underlying dtype."
      ]
    },
    {
      "cell_type": "code",
      "metadata": {
        "id": "2lTtexfcMEu3"
      },
      "source": [
        "data = np.array(\n",
        "  [\n",
        "    [\n",
        "      [1, 2],\n",
        "      [3, 4],\n",
        "    ]\n",
        "  ]\n",
        ")\n",
        "\n",
        "np.save('data.npy', data)\n",
        "\n",
        "!cat data.npy"
      ],
      "execution_count": null,
      "outputs": []
    },
    {
      "cell_type": "code",
      "metadata": {
        "id": "1Pk_OTk2MHqL"
      },
      "source": [
        "np.load('data.npy')"
      ],
      "execution_count": null,
      "outputs": []
    },
    {
      "cell_type": "code",
      "metadata": {
        "id": "zYrC513RMMh6"
      },
      "source": [
        "np.load('data.npy').dtype == data.dtype"
      ],
      "execution_count": null,
      "outputs": []
    },
    {
      "cell_type": "markdown",
      "metadata": {
        "id": "u7MwrG5zOd0u"
      },
      "source": [
        "## Shape manipulation\n",
        "It is possible to change the structure of data in the array. See examples below."
      ]
    },
    {
      "cell_type": "markdown",
      "metadata": {
        "id": "HcfnlAKZRybF"
      },
      "source": [
        "#### Reshape"
      ]
    },
    {
      "cell_type": "code",
      "metadata": {
        "id": "BV0M5pEUR7uZ"
      },
      "source": [
        "data = np.arange(0, 12, 1, dtype = int)\n",
        "data"
      ],
      "execution_count": null,
      "outputs": []
    },
    {
      "cell_type": "code",
      "metadata": {
        "id": "W32PRVRRSP6C"
      },
      "source": [
        "data.reshape(3, 4)"
      ],
      "execution_count": null,
      "outputs": []
    },
    {
      "cell_type": "code",
      "metadata": {
        "id": "qrMXwOeWSRtS"
      },
      "source": [
        "data.reshape(4, 3)"
      ],
      "execution_count": null,
      "outputs": []
    },
    {
      "cell_type": "code",
      "metadata": {
        "id": "ABDOg0W_STMb"
      },
      "source": [
        "data_reshaped = data.reshape(2, 3, 2)\n",
        "data_reshaped"
      ],
      "execution_count": null,
      "outputs": []
    },
    {
      "cell_type": "code",
      "metadata": {
        "id": "enjgvo5GSXwr"
      },
      "source": [
        "shape = data_reshaped.shape\n",
        "shape"
      ],
      "execution_count": null,
      "outputs": []
    },
    {
      "cell_type": "code",
      "source": [
        "# TODO: stwórz macierz a = array([3, 3, 3, 3]), a następnie zmień ją na: a = array([[3, 3], [3, 3]])"
      ],
      "metadata": {
        "id": "MiVJnQTvuUTt"
      },
      "execution_count": null,
      "outputs": []
    },
    {
      "cell_type": "markdown",
      "metadata": {
        "id": "E5eLjehcUI54"
      },
      "source": [
        "#### Inferring **one** dimension while using reshape method"
      ]
    },
    {
      "cell_type": "code",
      "metadata": {
        "id": "D1uvX6j2UOn1"
      },
      "source": [
        "data.reshape(6, -1)"
      ],
      "execution_count": null,
      "outputs": []
    },
    {
      "cell_type": "code",
      "metadata": {
        "id": "KJKIn8I2UTdY"
      },
      "source": [
        "data.reshape(-1, 6)"
      ],
      "execution_count": null,
      "outputs": []
    },
    {
      "cell_type": "code",
      "metadata": {
        "id": "YVRFWz5KUVyh"
      },
      "source": [
        "data.reshape(3, 2, -1)"
      ],
      "execution_count": null,
      "outputs": []
    },
    {
      "cell_type": "markdown",
      "metadata": {
        "id": "z7JN4va5UFNQ"
      },
      "source": [
        "#### Flatten"
      ]
    },
    {
      "cell_type": "code",
      "metadata": {
        "id": "VbfFSFnNSlKM"
      },
      "source": [
        "data_reshaped.flatten()"
      ],
      "execution_count": null,
      "outputs": []
    },
    {
      "cell_type": "markdown",
      "metadata": {
        "id": "C1Q-G6XiUgHZ"
      },
      "source": [
        "#### Adding / deleting dummy dimensions\n",
        "Facilites vectorized arithmetic with conjunction with broadcasting mechanism (explained later)"
      ]
    },
    {
      "cell_type": "code",
      "metadata": {
        "id": "ttSoPC-4UfH8"
      },
      "source": [
        "data"
      ],
      "execution_count": null,
      "outputs": []
    },
    {
      "cell_type": "code",
      "metadata": {
        "id": "V8u1DSQ4VOks"
      },
      "source": [
        "data.shape"
      ],
      "execution_count": null,
      "outputs": []
    },
    {
      "cell_type": "code",
      "metadata": {
        "id": "u5aGbVEKU5i9"
      },
      "source": [
        "data_expanded1 = np.expand_dims(data, 0)\n",
        "data_expanded1"
      ],
      "execution_count": null,
      "outputs": []
    },
    {
      "cell_type": "code",
      "metadata": {
        "id": "7jf6QbLDVCqr"
      },
      "source": [
        "data_expanded1.shape"
      ],
      "execution_count": null,
      "outputs": []
    },
    {
      "cell_type": "code",
      "metadata": {
        "id": "Vr3DxigtVD9b"
      },
      "source": [
        "data_expanded2 = np.expand_dims(data, 1)\n",
        "data_expanded2"
      ],
      "execution_count": null,
      "outputs": []
    },
    {
      "cell_type": "code",
      "metadata": {
        "id": "V1rEBe5VVHje"
      },
      "source": [
        "data_expanded2.shape"
      ],
      "execution_count": null,
      "outputs": []
    },
    {
      "cell_type": "code",
      "metadata": {
        "id": "s8fcV0ywV_lC"
      },
      "source": [
        "data_squeezed = data_expanded2.squeeze()\n",
        "data_squeezed"
      ],
      "execution_count": null,
      "outputs": []
    },
    {
      "cell_type": "code",
      "metadata": {
        "id": "uykmKsMFWFPJ"
      },
      "source": [
        "data_squeezed.shape"
      ],
      "execution_count": null,
      "outputs": []
    },
    {
      "cell_type": "markdown",
      "metadata": {
        "id": "LpAE74RVWIZ6"
      },
      "source": [
        "#### Transposing\n",
        "\n",
        "For 2D arrays it behaves just as expected (performs matrix transpose)."
      ]
    },
    {
      "cell_type": "code",
      "metadata": {
        "id": "TlDkSdFbWr3S"
      },
      "source": [
        "data = np.arange(0, 4, 1).reshape(2, 2)\n",
        "data"
      ],
      "execution_count": null,
      "outputs": []
    },
    {
      "cell_type": "code",
      "metadata": {
        "id": "LuTAWIIIWztK"
      },
      "source": [
        "data.transpose()"
      ],
      "execution_count": null,
      "outputs": []
    },
    {
      "cell_type": "markdown",
      "metadata": {
        "id": "a1CUvf_SXETi"
      },
      "source": [
        "For higher dimensional arrays its best visualized via observing how the shape changes."
      ]
    },
    {
      "cell_type": "code",
      "metadata": {
        "id": "MoB0Bm2xWdoK"
      },
      "source": [
        "shape = (1, 2, 3, 4)\n",
        "data = np.ones(shape)\n",
        "data.shape"
      ],
      "execution_count": null,
      "outputs": []
    },
    {
      "cell_type": "markdown",
      "metadata": {
        "id": "KhiAsVjqXjHP"
      },
      "source": [
        "The default behavior is to flip dimensions."
      ]
    },
    {
      "cell_type": "code",
      "metadata": {
        "id": "FRtIar69XoTk"
      },
      "source": [
        "data.transpose().shape"
      ],
      "execution_count": null,
      "outputs": []
    },
    {
      "cell_type": "markdown",
      "metadata": {
        "id": "CmLxe99uXsHc"
      },
      "source": [
        "However other permutations of dimensions might be specified."
      ]
    },
    {
      "cell_type": "code",
      "metadata": {
        "id": "rCQvZCdvWiyz"
      },
      "source": [
        "dimensions_permutation = [1, 0, 3, 2]\n",
        "data.transpose(dimensions_permutation).shape"
      ],
      "execution_count": null,
      "outputs": []
    },
    {
      "cell_type": "markdown",
      "metadata": {
        "id": "-wTUj5N4Wj1c"
      },
      "source": [
        "`.T` is a shortand for `.transpose()`"
      ]
    },
    {
      "cell_type": "code",
      "metadata": {
        "id": "jJ0zxRMXYw5H"
      },
      "source": [
        "data.T.shape"
      ],
      "execution_count": null,
      "outputs": []
    },
    {
      "cell_type": "markdown",
      "metadata": {
        "id": "L9ypvo97uHpM"
      },
      "source": [
        "## Concatenation & stacking\n",
        "The following methods are used to merge multiple arrays (with compatible shapes) into one array."
      ]
    },
    {
      "cell_type": "markdown",
      "metadata": {
        "id": "PnRyiUEWvmKc"
      },
      "source": [
        "### concatenate\n",
        "used to join a sequence of arrays along an **existing** axis."
      ]
    },
    {
      "cell_type": "code",
      "metadata": {
        "id": "_AMMldjRuLDk"
      },
      "source": [
        "\n",
        "import numpy as np\n",
        "\n",
        "# TODO: stwórz macierze array_1 = array([1, 1, 1, 1]), array_2 = array([2, 2, 2, 2]))\n",
        "array_1 = ...\n",
        "array_2 = ...\n",
        "\n",
        "array_1, array_2"
      ],
      "execution_count": null,
      "outputs": []
    },
    {
      "cell_type": "code",
      "metadata": {
        "id": "6tmV5Xdxulyk"
      },
      "source": [
        "np.concatenate([array_1, array_2, array_1])"
      ],
      "execution_count": null,
      "outputs": []
    },
    {
      "cell_type": "code",
      "metadata": {
        "id": "qLX4ZlU0u98d"
      },
      "source": [
        "# TODO: zmień te macierze na: array_1 = array([[1, 1, 1, 1]]), array_2 = array([[2, 2, 2, 2]]))\n",
        "array_1 = ...\n",
        "array_2 = ...\n",
        "\n",
        "array_1, array_2"
      ],
      "execution_count": null,
      "outputs": []
    },
    {
      "cell_type": "markdown",
      "metadata": {
        "id": "BHsemg62vKqO"
      },
      "source": [
        "The default axis to join on is 0"
      ]
    },
    {
      "cell_type": "code",
      "metadata": {
        "id": "Z6gb6VjvvVjX"
      },
      "source": [
        "np.concatenate([array_1, array_2, array_1])"
      ],
      "execution_count": null,
      "outputs": []
    },
    {
      "cell_type": "markdown",
      "metadata": {
        "id": "0laiWLYsvW3m"
      },
      "source": [
        "But it can be changed"
      ]
    },
    {
      "cell_type": "code",
      "metadata": {
        "id": "A0jUTxCsva4u"
      },
      "source": [
        "np.concatenate([array_1, array_2, array_1], axis=1)"
      ],
      "execution_count": null,
      "outputs": []
    },
    {
      "cell_type": "markdown",
      "metadata": {
        "id": "--40g1HAvqZE"
      },
      "source": [
        "### stack\n",
        "\n",
        "used to stack a sequence of arrays along a **new** axis."
      ]
    },
    {
      "cell_type": "code",
      "metadata": {
        "id": "IQmFfIiZv1n4"
      },
      "source": [
        "shape = (4,)\n",
        "array_1 = np.full(shape, 1)\n",
        "array_2 = np.full(shape, 2)\n",
        "\n",
        "array_1, array_2"
      ],
      "execution_count": null,
      "outputs": []
    },
    {
      "cell_type": "code",
      "metadata": {
        "id": "k4CJsJmLw3nV"
      },
      "source": [
        "np.stack([array_1, array_2, array_1])"
      ],
      "execution_count": null,
      "outputs": []
    },
    {
      "cell_type": "code",
      "metadata": {
        "id": "UPWMHBRLw7YN"
      },
      "source": [
        "np.stack([array_1, array_2, array_1], axis=1)"
      ],
      "execution_count": null,
      "outputs": []
    },
    {
      "cell_type": "markdown",
      "metadata": {
        "id": "MstU73vw3GR5"
      },
      "source": [
        "#### Broadcasting\n",
        "\n",
        "When arrays have different shapes the broadcasting mechanism comes into play.\n",
        "\n",
        "The term broadcasting describes how NumPy treats arrays with different shapes during arithmetic operations. Subject to certain constraints, the smaller array is “broadcast” across the larger array so that they have compatible shapes. Broadcasting provides a means of vectorizing array operations so that looping occurs in C instead of Python. It does this without making needless copies of data and usually leads to efficient algorithm implementations.\n",
        "\n",
        "When operating on two arrays, NumPy compares their shapes element-wise. It starts with the trailing (i.e. rightmost) dimensions and works its way left. Two dimensions are compatible when\n",
        "\n",
        "- they are equal, or\n",
        "- one of them is 1\n",
        "\n",
        "If these conditions are not met, a `ValueError: operands could not be broadcast together` exception is thrown, indicating that the arrays have incompatible shapes. The size of the resulting array is the size that is not 1 along each axis of the inputs.\n",
        "\n",
        "from: https://numpy.org/devdocs/user/basics.broadcasting.html"
      ]
    },
    {
      "cell_type": "code",
      "metadata": {
        "id": "FTn0D-662Roj"
      },
      "source": [
        "x_shape = (2, 4)\n",
        "y_shape = (2, 1)\n",
        "\n",
        "x = np.ones(x_shape)\n",
        "y = np.ones(y_shape)\n",
        "\n",
        "(x + y).shape"
      ],
      "execution_count": null,
      "outputs": []
    },
    {
      "cell_type": "code",
      "source": [
        "# Try to guess before running this cell\n",
        "(x + y)"
      ],
      "metadata": {
        "id": "caZ2k_88wQb6"
      },
      "execution_count": null,
      "outputs": []
    },
    {
      "cell_type": "code",
      "metadata": {
        "id": "fEAXWJg54gC6"
      },
      "source": [
        "x_shape =    (2, 4)\n",
        "y_shape = (3, 1, 1)\n",
        "\n",
        "x = np.ones(x_shape)\n",
        "y = np.ones(y_shape)\n",
        "\n",
        "(x + y).shape"
      ],
      "execution_count": null,
      "outputs": []
    },
    {
      "cell_type": "code",
      "source": [
        "# Try to guess before running this cell\n",
        "(x + y)"
      ],
      "metadata": {
        "id": "PZ0mFtBywX9_"
      },
      "execution_count": null,
      "outputs": []
    },
    {
      "cell_type": "code",
      "metadata": {
        "id": "innvq0dI4lCr"
      },
      "source": [
        "x_shape = (   1, 4)\n",
        "y_shape = (3, 2, 1)\n",
        "\n",
        "x = np.ones(x_shape)\n",
        "y = np.ones(y_shape)\n",
        "\n",
        "(x + y).shape"
      ],
      "execution_count": null,
      "outputs": []
    },
    {
      "cell_type": "code",
      "source": [
        "# Try to guess before running this cell\n",
        "(x + y)"
      ],
      "metadata": {
        "id": "nxXN7A_KwfU1"
      },
      "execution_count": null,
      "outputs": []
    },
    {
      "cell_type": "markdown",
      "metadata": {
        "id": "ownJQme57_Ho"
      },
      "source": [
        "### Matrix / tensor operations\n",
        "NumPy package wouldn't be complete without means to manipulate arrays other than elementwise operations, such as most common linear algebra functionalities. See the examples below."
      ]
    },
    {
      "cell_type": "markdown",
      "source": [
        "\n",
        "\n",
        "## **Mnożenie macierzy przez macierz**\n",
        "\n",
        "Mnożenie dwóch macierzy polega na:\n",
        "1. przemnożeniu każdej kolumny drugiej macierzy przez pierwszą macierz (jako mnożenie macierz-wektor) i\n",
        "2. zapisaniu wyników jako kolumny nowej macierzy.\n",
        "\n",
        "Jeśli mamy dwie macierze:\n",
        "\n",
        "$$\n",
        "A = \\begin{pmatrix}\n",
        "a_{11} & a_{12} \\\\\n",
        "a_{21} & a_{22} \\\\\n",
        "\\end{pmatrix}\n",
        ",\n",
        "B = \\begin{pmatrix}\n",
        "b_{11} & b_{12} \\\\\n",
        "b_{21} & b_{22} \\\\\n",
        "\\end{pmatrix}\n",
        "$$\n",
        "\n",
        "to ich iloczyn, oznaczany jako $C = A \\cdot B$, jest obliczany jako\n",
        "\n",
        "$$\n",
        "C = \\begin{pmatrix}\n",
        "a_{11} \\cdot b_{11} + a_{12} \\cdot b_{21} & a_{11} \\cdot b_{12} + a_{12} \\cdot b_{22} \\\\\n",
        "a_{21} \\cdot b_{11} + a_{22} \\cdot b_{21} & a_{21} \\cdot b_{12} + a_{22} \\cdot b_{22} \\\\\n",
        "\\end{pmatrix}\n",
        "$$\n",
        "\n",
        "Podobnie działa mnożenie większych macierzy: element na pozycji $(i, j)$ w wynikowej macierzy to iloczyn skalarny i-tego wiersza pierwszej macierzy i j-tej kolumny drugiej macierzy.\n",
        "\n",
        "Pamiętaj jednak, że można pomnożyć ze sobą jedynie niektóre macierze: liczba kolumn pierwszej macierzy musi być równa liczbie wierszy drugiej!\n"
      ],
      "metadata": {
        "id": "__LW544kwl8d"
      }
    },
    {
      "cell_type": "markdown",
      "metadata": {
        "id": "1sIxcKax8cg5"
      },
      "source": [
        "#### Matrix multiplication\n",
        "\n",
        "can be performed with `matmul` method"
      ]
    },
    {
      "cell_type": "code",
      "metadata": {
        "id": "YFUeAbZj8hU5"
      },
      "source": [
        "a = np.eye(3)\n",
        "a[2,2] = 2\n",
        "b = np.arange(0, 3, 1).reshape(3, 1)\n",
        "\n",
        "a"
      ],
      "execution_count": null,
      "outputs": []
    },
    {
      "cell_type": "code",
      "metadata": {
        "id": "fd41AACC_bbF"
      },
      "source": [
        "b"
      ],
      "execution_count": null,
      "outputs": []
    },
    {
      "cell_type": "code",
      "metadata": {
        "id": "Y-18NpJX_cgc"
      },
      "source": [
        "np.matmul(a, b)"
      ],
      "execution_count": null,
      "outputs": []
    },
    {
      "cell_type": "markdown",
      "metadata": {
        "id": "l20RXVxg_8nU"
      },
      "source": [
        "or `@` operand"
      ]
    },
    {
      "cell_type": "code",
      "metadata": {
        "id": "h3AHDETg_2_E"
      },
      "source": [
        "a @ b"
      ],
      "execution_count": null,
      "outputs": []
    },
    {
      "cell_type": "markdown",
      "metadata": {
        "id": "FYCic63TAcKU"
      },
      "source": [
        "Be mindfull of its varying behaviour for different input shapes\n",
        "\n",
        "- If both arguments are 2-D they are multiplied like conventional matrices.\n",
        "- If either argument is N-D, N > 2, it is treated as a stack of matrices residing in the last two indexes and broadcast accordingly.\n",
        "- If the first argument is 1-D, it is promoted to a matrix by prepending a 1 to its dimensions. After matrix multiplication the prepended 1 is removed.\n",
        "- If the second argument is 1-D, it is promoted to a matrix by appending a 1 to its dimensions. After matrix multiplication the appended 1 is removed.\n",
        "\n",
        "from: https://numpy.org/doc/stable/reference/generated/numpy.matmul.html"
      ]
    },
    {
      "cell_type": "markdown",
      "metadata": {
        "id": "0EP2MLmCBEyu"
      },
      "source": [
        "#### Dot product\n",
        "\n",
        "can be performed using `dot` method."
      ]
    },
    {
      "cell_type": "code",
      "metadata": {
        "id": "eciZI6N9BKLm"
      },
      "source": [
        "x = np.arange(0, 3, 1)\n",
        "y = np.arange(3, 6, 1)\n",
        "\n",
        "x, y"
      ],
      "execution_count": null,
      "outputs": []
    },
    {
      "cell_type": "code",
      "source": [
        "# TODO: jaki jest wynik tej komórki?\n",
        "x * y"
      ],
      "metadata": {
        "id": "QF_FXJwGyfFM"
      },
      "execution_count": null,
      "outputs": []
    },
    {
      "cell_type": "code",
      "metadata": {
        "id": "Y-M79hhnBXVv"
      },
      "source": [
        "# TODO: a tej?\n",
        "np.dot(x, y)"
      ],
      "execution_count": null,
      "outputs": []
    },
    {
      "cell_type": "markdown",
      "metadata": {
        "id": "JbHGtGv5EiRE"
      },
      "source": [
        "#### (Additional) Einstein summation convention\n",
        "Einstein summation convention provide a concise way of expressing multilinear operations. You can look it up here https://mathworld.wolfram.com/EinsteinSummation.html and its NumPy specification here https://numpy.org/doc/stable/reference/generated/numpy.einsum.html.\n",
        "\n",
        "Take a look a the following ilustrative examples.\n"
      ]
    },
    {
      "cell_type": "code",
      "metadata": {
        "id": "9ceniNXgg6e2"
      },
      "source": [
        "data = np.tri(3)\n",
        "data"
      ],
      "execution_count": null,
      "outputs": []
    },
    {
      "cell_type": "code",
      "metadata": {
        "id": "fFpsXkJbhuwJ"
      },
      "source": [
        "np.einsum('ij->ji', data)  # transpose"
      ],
      "execution_count": null,
      "outputs": []
    },
    {
      "cell_type": "code",
      "metadata": {
        "id": "UZ-VcjHthZq-"
      },
      "source": [
        "np.einsum('ij->i', data)  # row sum"
      ],
      "execution_count": null,
      "outputs": []
    },
    {
      "cell_type": "code",
      "metadata": {
        "id": "jg14G-s1hm_n"
      },
      "source": [
        "np.einsum('ij->j', data)  # column sum"
      ],
      "execution_count": null,
      "outputs": []
    },
    {
      "cell_type": "code",
      "metadata": {
        "id": "UfIfVmdohHuG"
      },
      "source": [
        "np.einsum('ii->i', data)  # diagonal"
      ],
      "execution_count": null,
      "outputs": []
    },
    {
      "cell_type": "code",
      "metadata": {
        "id": "hNCFExvziiT7"
      },
      "source": [
        "vector = np.ones(3)\n",
        "vector"
      ],
      "execution_count": null,
      "outputs": []
    },
    {
      "cell_type": "code",
      "metadata": {
        "id": "xpNMIWG2imKK"
      },
      "source": [
        "np.einsum('ij,j->i', data, vector)  # matrix multiplication (matrix x vector)"
      ],
      "execution_count": null,
      "outputs": []
    },
    {
      "cell_type": "code",
      "metadata": {
        "id": "ikx6mTuWi9TF"
      },
      "source": [
        "np.einsum('ij,jk->ik', data, vector.reshape(3, 1))  # matrix multiplication (matrix x matrix)"
      ],
      "execution_count": null,
      "outputs": []
    },
    {
      "cell_type": "markdown",
      "metadata": {
        "id": "pVUdwYH3GW05"
      },
      "source": [
        "## Other operations"
      ]
    },
    {
      "cell_type": "markdown",
      "metadata": {
        "id": "eiRGlH_vGmaI"
      },
      "source": [
        "### Aggregations: mean / var\n",
        "Very often we are required to calculate some aggregations with respect to specific dimensions of an array, such as mean or variance."
      ]
    },
    {
      "cell_type": "code",
      "metadata": {
        "id": "hhyoPd_DG39a"
      },
      "source": [
        "data = np.arange(0, 20, 1).reshape(4, 5)\n",
        "data"
      ],
      "execution_count": null,
      "outputs": []
    },
    {
      "cell_type": "markdown",
      "metadata": {
        "id": "bAwNyq96HEMi"
      },
      "source": [
        "By default the whole array is aggregated"
      ]
    },
    {
      "cell_type": "code",
      "metadata": {
        "id": "qfO9vYRFGw1k"
      },
      "source": [
        "data.mean()"
      ],
      "execution_count": null,
      "outputs": []
    },
    {
      "cell_type": "markdown",
      "metadata": {
        "id": "LEWqRMUZHBXM"
      },
      "source": [
        "But aggregations can also be applied axiswise"
      ]
    },
    {
      "cell_type": "code",
      "metadata": {
        "id": "aFGA-TSDHJVd"
      },
      "source": [
        "data.mean(axis=0)"
      ],
      "execution_count": null,
      "outputs": []
    },
    {
      "cell_type": "code",
      "metadata": {
        "id": "nvqcg3nlHKkc"
      },
      "source": [
        "data.mean(axis=1)"
      ],
      "execution_count": null,
      "outputs": []
    },
    {
      "cell_type": "code",
      "metadata": {
        "id": "5Z0DPbNqHMIN"
      },
      "source": [
        "data.var(axis=0)"
      ],
      "execution_count": null,
      "outputs": []
    },
    {
      "cell_type": "markdown",
      "metadata": {
        "id": "4kthnaqxNdpl"
      },
      "source": [
        "### Sorting\n",
        "Arrays can be sorted. By default sorting is performed with respect to the last dimension"
      ]
    },
    {
      "cell_type": "code",
      "metadata": {
        "id": "ScuZ5wvHNnzP"
      },
      "source": [
        "data = np.array([\n",
        "  [1, 4, 2, 8, 5],\n",
        "  [2, 3, 1, 9, 6],\n",
        "  [8, 2, 3, 7, 4],\n",
        "])\n",
        "\n",
        "np.sort(data)"
      ],
      "execution_count": null,
      "outputs": []
    },
    {
      "cell_type": "markdown",
      "metadata": {
        "id": "T5MVQ6L-ONtN"
      },
      "source": [
        "but sorting dimension can be explicitly specified."
      ]
    },
    {
      "cell_type": "code",
      "metadata": {
        "id": "V-uLaC9dN4z2"
      },
      "source": [
        "np.sort(data, axis=0)"
      ],
      "execution_count": null,
      "outputs": []
    },
    {
      "cell_type": "code",
      "metadata": {
        "id": "gPM7rRJIN5zu"
      },
      "source": [
        "np.sort(data, axis=1)"
      ],
      "execution_count": null,
      "outputs": []
    },
    {
      "cell_type": "markdown",
      "metadata": {
        "id": "xI3eftldOBd-"
      },
      "source": [
        "You can also get the \"sorting permutations\" that can be used in conjunction with advanced indexing (introduced below)."
      ]
    },
    {
      "cell_type": "code",
      "metadata": {
        "id": "kz1t6vBDOcW_"
      },
      "source": [
        "np.argsort(data, axis=0)"
      ],
      "execution_count": null,
      "outputs": []
    },
    {
      "cell_type": "code",
      "metadata": {
        "id": "HzIurHBROfbo"
      },
      "source": [
        "np.argsort(data, axis=1)"
      ],
      "execution_count": null,
      "outputs": []
    },
    {
      "cell_type": "code",
      "source": [
        "# TODO: stwórz macierz array([(1, 2)^8]) i posortuj ją"
      ],
      "metadata": {
        "id": "dqK4DBr5yvMk"
      },
      "execution_count": null,
      "outputs": []
    },
    {
      "cell_type": "markdown",
      "metadata": {
        "id": "P5H09Te1GiEb"
      },
      "source": [
        "## Indexing\n",
        "\n",
        "Allows selecting items and subarrays. It can be also used to modify fragments of an array."
      ]
    },
    {
      "cell_type": "markdown",
      "metadata": {
        "id": "MvDoRtmTPmDg"
      },
      "source": [
        "### Basic indexing"
      ]
    },
    {
      "cell_type": "code",
      "metadata": {
        "id": "6wNkceZBGiEc"
      },
      "source": [
        "data = np.arange(0, 16, 1)\n",
        "data"
      ],
      "execution_count": null,
      "outputs": []
    },
    {
      "cell_type": "code",
      "metadata": {
        "id": "GlNnE9I3GiEc"
      },
      "source": [
        "data[10]"
      ],
      "execution_count": null,
      "outputs": []
    },
    {
      "cell_type": "code",
      "metadata": {
        "id": "dyPC5QgnGiEd"
      },
      "source": [
        "data[-2]"
      ],
      "execution_count": null,
      "outputs": []
    },
    {
      "cell_type": "code",
      "metadata": {
        "id": "4fD0i1vPGiEd"
      },
      "source": [
        "data[:5]"
      ],
      "execution_count": null,
      "outputs": []
    },
    {
      "cell_type": "code",
      "metadata": {
        "id": "ylT1TzN8GiEd"
      },
      "source": [
        "data[::2]"
      ],
      "execution_count": null,
      "outputs": []
    },
    {
      "cell_type": "code",
      "metadata": {
        "id": "xDYxi7KZGiEd"
      },
      "source": [
        "data[-3:]"
      ],
      "execution_count": null,
      "outputs": []
    },
    {
      "cell_type": "code",
      "source": [
        "# TODO: weź fragment array([3, 4]) używając operacji wprowadzonych powyżej"
      ],
      "metadata": {
        "id": "-71BRxskzAmK"
      },
      "execution_count": null,
      "outputs": []
    },
    {
      "cell_type": "code",
      "source": [
        "# TODO: czy masz pomysł, jak odwrócić tablicę używając ::"
      ],
      "metadata": {
        "id": "O8k1hupPzQko"
      },
      "execution_count": null,
      "outputs": []
    },
    {
      "cell_type": "markdown",
      "metadata": {
        "id": "XC5lLdv5GiEe"
      },
      "source": [
        "It is also possible in higher dimensional setting\n"
      ]
    },
    {
      "cell_type": "code",
      "metadata": {
        "id": "GQmHyjgnGiEe"
      },
      "source": [
        "data = data.reshape(4, 4)\n",
        "data"
      ],
      "execution_count": null,
      "outputs": []
    },
    {
      "cell_type": "code",
      "metadata": {
        "id": "inyJ51zXGiEe"
      },
      "source": [
        "data[1, 1]"
      ],
      "execution_count": null,
      "outputs": []
    },
    {
      "cell_type": "code",
      "metadata": {
        "id": "7ThXkYJHGiEe"
      },
      "source": [
        "data[1, :]"
      ],
      "execution_count": null,
      "outputs": []
    },
    {
      "cell_type": "markdown",
      "metadata": {
        "id": "pCCalPUaGiEf"
      },
      "source": [
        "One does not need to specify trailing colons `:`"
      ]
    },
    {
      "cell_type": "code",
      "metadata": {
        "id": "jkDtPEmzGiEf"
      },
      "source": [
        "data[:-2]"
      ],
      "execution_count": null,
      "outputs": []
    },
    {
      "cell_type": "markdown",
      "metadata": {
        "id": "2pEgZ0mXGiEf"
      },
      "source": [
        "Note how the column selection is achieved. In this case `:` can't be ommited."
      ]
    },
    {
      "cell_type": "code",
      "metadata": {
        "id": "f8SRcQZtGiEf"
      },
      "source": [
        "data[:, -2:]"
      ],
      "execution_count": null,
      "outputs": []
    },
    {
      "cell_type": "markdown",
      "metadata": {
        "id": "jNCnnDAvGiEf"
      },
      "source": [
        "One group of subsequent colons `:` can be replaced with `...`"
      ]
    },
    {
      "cell_type": "code",
      "metadata": {
        "id": "BTWokDfAGiEg"
      },
      "source": [
        "data_reshaped = data.reshape(4, 2, 2)\n",
        "data_reshaped"
      ],
      "execution_count": null,
      "outputs": []
    },
    {
      "cell_type": "code",
      "metadata": {
        "id": "ckI7EDwNGiEg"
      },
      "source": [
        "data_reshaped[..., 0]"
      ],
      "execution_count": null,
      "outputs": []
    },
    {
      "cell_type": "markdown",
      "metadata": {
        "id": "Y28i1ixMGiEg"
      },
      "source": [
        "Note the difference"
      ]
    },
    {
      "cell_type": "code",
      "metadata": {
        "id": "-vSdeG8iGiEg"
      },
      "source": [
        "data_reshaped[:, 0]"
      ],
      "execution_count": null,
      "outputs": []
    },
    {
      "cell_type": "markdown",
      "metadata": {
        "id": "y8Fbg4skPhZI"
      },
      "source": [
        "### View & copies\n",
        "\n",
        "Basic indexing routines presented above return views of the data in the underlying arrays. When the underlying array is modified the changes are reflected in the view."
      ]
    },
    {
      "cell_type": "code",
      "metadata": {
        "id": "4DnGEbkeQInP"
      },
      "source": [
        "data = np.arange(0, 16, 1).reshape(4, 4)\n",
        "data"
      ],
      "execution_count": null,
      "outputs": []
    },
    {
      "cell_type": "code",
      "metadata": {
        "id": "BduCu6bPQKS2"
      },
      "source": [
        "view = data[:, 3]\n",
        "view"
      ],
      "execution_count": null,
      "outputs": []
    },
    {
      "cell_type": "code",
      "metadata": {
        "id": "KRNJxUnvQTIM"
      },
      "source": [
        "data *= 2\n",
        "data"
      ],
      "execution_count": null,
      "outputs": []
    },
    {
      "cell_type": "code",
      "metadata": {
        "id": "DnPAbJujQVic"
      },
      "source": [
        "view"
      ],
      "execution_count": null,
      "outputs": []
    },
    {
      "cell_type": "markdown",
      "metadata": {
        "id": "Yxv8dzR_RFml"
      },
      "source": [
        "To \"detach\" view from the underlying array use `copy` method"
      ]
    },
    {
      "cell_type": "code",
      "metadata": {
        "id": "87ttHjjmRMgO"
      },
      "source": [
        "view_copy = view.copy()\n",
        "data *= 2\n",
        "view, view_copy"
      ],
      "execution_count": null,
      "outputs": []
    },
    {
      "cell_type": "markdown",
      "metadata": {
        "id": "YEUyRMzOROEG"
      },
      "source": [
        "Views are only possible when selecting with slices, then it's a matter of rememebering offset and stride only.\n",
        "\n",
        "You can read more about this here: https://scipy-cookbook.readthedocs.io/items/ViewsVsCopies.html"
      ]
    },
    {
      "cell_type": "markdown",
      "metadata": {
        "id": "a9gLMTtZSgCY"
      },
      "source": [
        "### (Advanced) Advanced indexing\n",
        "\n",
        "it is also possible to index with integer or boolean arrays"
      ]
    },
    {
      "cell_type": "code",
      "metadata": {
        "id": "Ts1DkP6sSfNg"
      },
      "source": [
        "data = np.arange(0, 16, 1).reshape(4, 4)\n",
        "data"
      ],
      "execution_count": null,
      "outputs": []
    },
    {
      "cell_type": "markdown",
      "metadata": {
        "id": "CgrvZDQSTZRj"
      },
      "source": [
        "We can select specific rows"
      ]
    },
    {
      "cell_type": "code",
      "metadata": {
        "id": "isgJivWfTUg0"
      },
      "source": [
        "data[[0, 3]]"
      ],
      "execution_count": null,
      "outputs": []
    },
    {
      "cell_type": "markdown",
      "metadata": {
        "id": "aDuYknJ4TdnS"
      },
      "source": [
        "and columns."
      ]
    },
    {
      "cell_type": "code",
      "metadata": {
        "id": "FIqWs6WfTfMs"
      },
      "source": [
        "data[:, [0, 3]]"
      ],
      "execution_count": null,
      "outputs": []
    },
    {
      "cell_type": "markdown",
      "metadata": {
        "id": "0cdJAq02TgUV"
      },
      "source": [
        "Seleceting both together is a little more complicated"
      ]
    },
    {
      "cell_type": "code",
      "metadata": {
        "id": "4iO4znPzTode"
      },
      "source": [
        "rows = [\n",
        " [0, 0],\n",
        " [3, 3]\n",
        "]\n",
        "columns = [\n",
        " [0, 3],\n",
        " [0, 3]\n",
        "]\n",
        "data[rows, columns]"
      ],
      "execution_count": null,
      "outputs": []
    },
    {
      "cell_type": "markdown",
      "metadata": {
        "id": "nIk5ZE8kUaUa"
      },
      "source": [
        "Use indices shape to control the output shape."
      ]
    },
    {
      "cell_type": "code",
      "metadata": {
        "id": "ljHFVBpiTmpt"
      },
      "source": [
        "rows = [0, 0, 3, 3]\n",
        "columns = [0, 3, 0, 3]\n",
        "data[rows, columns]"
      ],
      "execution_count": null,
      "outputs": []
    },
    {
      "cell_type": "markdown",
      "metadata": {
        "id": "H7MGpzdaUlmY"
      },
      "source": [
        "Boolean arrays can be used as well, though they work somewhat differently."
      ]
    },
    {
      "cell_type": "code",
      "metadata": {
        "id": "4Rc8BIDYUtvY"
      },
      "source": [
        "index = (data % 3 == 0)\n",
        "index"
      ],
      "execution_count": null,
      "outputs": []
    },
    {
      "cell_type": "code",
      "metadata": {
        "id": "E8tVnHZcUvyQ"
      },
      "source": [
        "data[index]"
      ],
      "execution_count": null,
      "outputs": []
    },
    {
      "cell_type": "markdown",
      "metadata": {
        "id": "6E13UcvQ9OGM"
      },
      "source": [
        "Its most common use case is to update array entries based on some condition."
      ]
    },
    {
      "cell_type": "code",
      "metadata": {
        "id": "ErmtBkjfuBsa"
      },
      "source": [
        "data[index] = -1\n",
        "data"
      ],
      "execution_count": null,
      "outputs": []
    },
    {
      "cell_type": "markdown",
      "metadata": {
        "id": "GQxk8eUwU59O"
      },
      "source": [
        "Detailed bahavior of indexing with boolean arrays is described here: https://numpy.org/doc/stable/reference/arrays.indexing.html#advanced-indexing"
      ]
    },
    {
      "cell_type": "markdown",
      "metadata": {
        "id": "KWErlaLBV3X8"
      },
      "source": [
        "# NumPy Exercises"
      ]
    },
    {
      "cell_type": "markdown",
      "metadata": {
        "id": "WUJrN7ZfSwud"
      },
      "source": [
        "### Exercise: multiplication table\n",
        "Create \"{0, ..., 10} x {0, ..., 10} multiplication table\" using only\n",
        "- multiplication of 1D arrays, dummy dimensions and broadcasting mechanism."
      ]
    },
    {
      "cell_type": "code",
      "metadata": {
        "id": "tmXlftPyvIEN"
      },
      "source": [
        "### YOUR CODE BEGINS HERE ###\n",
        "\n",
        "### YOUR CODE ENDS HERE ###"
      ],
      "execution_count": null,
      "outputs": []
    },
    {
      "cell_type": "markdown",
      "source": [
        "# Matplotlib\n",
        "\n",
        "Intro to plotting"
      ],
      "metadata": {
        "id": "IpQF5C1L0zZO"
      }
    },
    {
      "cell_type": "markdown",
      "source": [
        "Let's start from creating Line graph:"
      ],
      "metadata": {
        "id": "tbi9qAM00_ej"
      }
    },
    {
      "cell_type": "code",
      "source": [
        "import matplotlib.pyplot as plt\n",
        "\n",
        "study_hours = [2, 4, 3, 5, 1]\n",
        "test_scores = [75, 88, 82, 95, 68]\n",
        "\n",
        "# Create the line plot\n",
        "plt.plot(study_hours, test_scores)\n",
        "\n",
        "# Add labels and title\n",
        "plt.xlabel(\"Study Hours\")\n",
        "plt.ylabel(\"Test Scores\")\n",
        "plt.title(\"Study Hours vs. Test Scores\")\n",
        "\n",
        "# Show the plot\n",
        "plt.show()"
      ],
      "metadata": {
        "id": "YwGDUDIW0y_-"
      },
      "execution_count": null,
      "outputs": []
    },
    {
      "cell_type": "markdown",
      "source": [
        "Then lets explore barplots"
      ],
      "metadata": {
        "id": "s9tks-aq1J_N"
      }
    },
    {
      "cell_type": "code",
      "source": [
        "genres = [\"Comedy\", \"Action\", \"Drama\", \"Sci-Fi\"]\n",
        "votes = [10, 8, 5, 3]\n",
        "\n",
        "# Create the bar chart\n",
        "plt.bar(genres, votes)\n",
        "\n",
        "# Add labels and title\n",
        "plt.xlabel(\"Movie Genres\")\n",
        "plt.ylabel(\"Number of Votes\")\n",
        "plt.title(\"Favorite Movie Genres in Class\")\n",
        "\n",
        "# Show the plot\n",
        "plt.show()\n"
      ],
      "metadata": {
        "id": "sxn5GVQP0-Hf"
      },
      "execution_count": null,
      "outputs": []
    },
    {
      "cell_type": "code",
      "source": [
        "# TODO: stwórz line plot, którego wykres to prosta linia od punktu (1, 1) do punktu (10, 10)"
      ],
      "metadata": {
        "id": "UxzrLEbU1TzJ"
      },
      "execution_count": null,
      "outputs": []
    },
    {
      "cell_type": "code",
      "source": [
        "# TODO: stwórz line plot, którego wykres to prosta linia idąca przez punkty (1, 1), (2, 2), ..., (10, 10)"
      ],
      "metadata": {
        "id": "c4opSSEH1jRn"
      },
      "execution_count": null,
      "outputs": []
    }
  ]
}
